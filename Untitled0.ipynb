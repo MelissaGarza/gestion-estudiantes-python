{
  "nbformat": 4,
  "nbformat_minor": 0,
  "metadata": {
    "colab": {
      "provenance": [],
      "authorship_tag": "ABX9TyNtjgzQLQcRI7o6bmPS6UyB",
      "include_colab_link": true
    },
    "kernelspec": {
      "name": "python3",
      "display_name": "Python 3"
    },
    "language_info": {
      "name": "python"
    }
  },
  "cells": [
    {
      "cell_type": "markdown",
      "metadata": {
        "id": "view-in-github",
        "colab_type": "text"
      },
      "source": [
        "<a href=\"https://colab.research.google.com/github/MelissaGarza/gestion-estudiantes-python/blob/main/Untitled0.ipynb\" target=\"_parent\"><img src=\"https://colab.research.google.com/assets/colab-badge.svg\" alt=\"Open In Colab\"/></a>"
      ]
    },
    {
      "cell_type": "code",
      "execution_count": 2,
      "metadata": {
        "colab": {
          "base_uri": "https://localhost:8080/"
        },
        "id": "PDLWmD2JOjEu",
        "outputId": "5b5bafc7-ce26-4a30-8347-c017ec2be4ef"
      },
      "outputs": [
        {
          "output_type": "stream",
          "name": "stdout",
          "text": [
            "Nombre: Carlos Pérez\n",
            "Matrícula: A001\n",
            "Calificaciones: [85, 75, 78]\n",
            "Promedio: 79.33\n",
            "------------------------\n",
            "Nombre: Ana López\n",
            "Matrícula: A002\n",
            "Calificaciones: [95, 86, 91]\n",
            "Promedio: 90.67\n"
          ]
        }
      ],
      "source": [
        "# Clase Estudiante para gestión de estudiantes\n",
        "class Estudiante:\n",
        "    def __init__(self, nombre, matricula):\n",
        "        # Constructor que inicializa el nombre, matrícula y una lista vacía de calificaciones\n",
        "        self.nombre = nombre\n",
        "        self.matricula = matricula\n",
        "        self.calificaciones = []\n",
        "\n",
        "    def agregar_calificacion(self, calificacion):\n",
        "        # Método para agregar calificación\n",
        "        self.calificaciones.append(calificacion)\n",
        "\n",
        "    def calcular_promedio(self):\n",
        "        # Calcular promedio de las calificaciones\n",
        "        if len(self.calificaciones) == 0:\n",
        "            return 0\n",
        "        return sum(self.calificaciones) / len(self.calificaciones)\n",
        "\n",
        "    def mostrar_informacion(self):\n",
        "        # Muestra el nombre, matrícula y promedio del estudiante\n",
        "        print(f\"Nombre: {self.nombre}\")\n",
        "        print(f\"Matrícula: {self.matricula}\")\n",
        "        print(f\"Calificaciones: {self.calificaciones}\")\n",
        "        print(f\"Promedio: {self.calcular_promedio():.2f}\")\n",
        "\n",
        "\n",
        "# Programa principal\n",
        "if __name__ == \"__main__\":\n",
        "    # Objetos de la clase Estudiante\n",
        "    estudiante1 = Estudiante(\"Carlos Pérez\", \"A001\")\n",
        "    estudiante2 = Estudiante(\"Ana López\", \"A002\")\n",
        "\n",
        "    # Agregar calificaciones\n",
        "    estudiante1.agregar_calificacion(85)\n",
        "    estudiante1.agregar_calificacion(75)\n",
        "    estudiante1.agregar_calificacion(78)\n",
        "\n",
        "    estudiante2.agregar_calificacion(95)\n",
        "    estudiante2.agregar_calificacion(86)\n",
        "    estudiante2.agregar_calificacion(91)\n",
        "\n",
        "    # Mostrar información de cada estudiante\n",
        "    estudiante1.mostrar_informacion()\n",
        "    print(\"------------------------\")\n",
        "    estudiante2.mostrar_informacion()\n",
        "\n"
      ]
    }
  ]
}